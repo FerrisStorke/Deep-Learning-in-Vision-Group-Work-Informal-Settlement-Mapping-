{
  "cells": [
    {
      "cell_type": "markdown",
      "id": "be72341b-3d53-4c7c-8483-d7f21ea52c8f",
      "metadata": {
        "tags": [],
        "id": "be72341b-3d53-4c7c-8483-d7f21ea52c8f"
      },
      "source": [
        "### Tiling and converting of mask"
      ]
    },
    {
      "cell_type": "code",
      "source": [
        "# Install needed Packages\n",
        "%%capture\n",
        "!pip install rasterio\n",
        "!pip install geopandas\n",
        "!pip install fastai --upgrade\n",
        "!pip install geocube"
      ],
      "metadata": {
        "id": "nSZk34bhItOj"
      },
      "id": "nSZk34bhItOj",
      "execution_count": 1,
      "outputs": []
    },
    {
      "cell_type": "code",
      "execution_count": 2,
      "id": "9cfe8c2b-eadc-46ad-8a49-b0e00c549b33",
      "metadata": {
        "id": "9cfe8c2b-eadc-46ad-8a49-b0e00c549b33",
        "colab": {
          "base_uri": "https://localhost:8080/"
        },
        "outputId": "dd66277d-d66c-4f38-e562-551275f92d44"
      },
      "outputs": [
        {
          "output_type": "stream",
          "name": "stderr",
          "text": [
            "/usr/local/lib/python3.7/dist-packages/psycopg2/__init__.py:144: UserWarning: The psycopg2 wheel package will be renamed from release 2.8; in order to keep installing from binary please use \"pip install psycopg2-binary\" instead. For details see: <http://initd.org/psycopg/docs/install.html#binary-install-from-pypi>.\n",
            "  \"\"\")\n"
          ]
        }
      ],
      "source": [
        "# Import packages\n",
        "import rasterio\n",
        "from rasterio.features import rasterize\n",
        "import geopandas as gpd\n",
        "from shapely.ops import cascaded_union\n",
        "from shapely.geometry import mapping, Point, Polygon\n",
        "from geocube.api.core import make_geocube\n",
        "import numpy as np\n",
        "import matplotlib.pyplot as plt\n",
        "from PIL import Image\n",
        "import os\n",
        "from fastai.vision.all import *\n",
        "from tqdm import tqdm"
      ]
    },
    {
      "cell_type": "code",
      "source": [
        "from google.colab import drive\n",
        "drive.mount('/content/drive')"
      ],
      "metadata": {
        "colab": {
          "base_uri": "https://localhost:8080/"
        },
        "id": "Z8RMMqe5JY0-",
        "outputId": "ed854f43-0af3-4cc9-e01a-05bbd2820dc4"
      },
      "id": "Z8RMMqe5JY0-",
      "execution_count": 3,
      "outputs": [
        {
          "output_type": "stream",
          "name": "stdout",
          "text": [
            "Mounted at /content/drive\n"
          ]
        }
      ]
    },
    {
      "cell_type": "code",
      "source": [
        "# Create functions\n",
        "def tile_img_msk(image_path, tile_size:int):\n",
        "  \"Tile images and masks into smaller tiles and save them\"\n",
        "  for fn in tqdm(image_path):\n",
        "    output_path = fn.parent.parent\n",
        "\n",
        "    # Create directories\n",
        "    if not os.path.exists(output_path/'image_tiles test'):\n",
        "      os.makedirs(output_path/'image_tiles test')\n",
        "    if not os.path.exists(output_path/f'{mask_type}_mask_tiles test'):\n",
        "      os.makedirs(output_path/f'{mask_type}_mask_tiles test')\n",
        "\n",
        "    # Create mask for current image\n",
        "    img = np.array(PILImage.create(fn))\n",
        "    msk_fn = str(fn).replace('images', f'untiled masks/{mask_type}')\n",
        "    msk = np.array(PILMask.create(msk_fn))\n",
        "    x, y, _ = img.shape\n",
        "\n",
        "    # Cut tiles and save them\n",
        "    for i in range(x//tile_size):\n",
        "      for j in range(y//tile_size):\n",
        "        img_tile = img[i*tile_size:(i+1)*tile_size,j*tile_size:(j+1)*tile_size]\n",
        "        msk_tile = msk[i*tile_size:(i+1)*tile_size,j*tile_size:(j+1)*tile_size]\n",
        "        print(fn.name)\n",
        "        Image.fromarray(img_tile).save(f'{output_path}/image_tiles test/{fn.name[:-4]}_{i}_{j}.png')\n",
        "        Image.fromarray(msk_tile).save(f'{output_path}/{mask_type}_mask_tiles test/{fn.name[:-4]}_{i}_{j}.png')\n",
        "\n",
        "\n",
        "def tile_img(image_path, output_path, tile_size:int, single = None):\n",
        "  \"Tile image into smaller tiles and save them\"\n",
        "  if single == False:\n",
        "    for fn in tqdm(image_path):\n",
        "      # Create directories\n",
        "      if not os.path.exists(output_path):\n",
        "        os.makedirs(output_path)\n",
        "\n",
        "      # Create mask for current image\n",
        "      img = np.array(PILImage.create(fn))\n",
        "      x, y, _ = img.shape\n",
        "\n",
        "      # Cut tiles and save them\n",
        "      for i in range(x//tile_size):\n",
        "        for j in range(y//tile_size):\n",
        "          img_tile = img[i*tile_size:(i+1)*tile_size,j*tile_size:(j+1)*tile_size]\n",
        "          Image.fromarray(img_tile).save(f'{output_path}/{fn.name[:-4]}_{i}_{j}.png')\n",
        "  if single == True:\n",
        "    # Create directories\n",
        "    if not os.path.exists(output_path):\n",
        "      os.makedirs(output_path)\n",
        "\n",
        "    # Create mask for current image\n",
        "    img = np.array(PILImage.create(image_path))\n",
        "    x, y, _ = img.shape\n",
        "\n",
        "    # Cut tiles and save them\n",
        "    fn = image_path.split(\"/\")[-1][:-4]\n",
        "    for i in range(x//tile_size):\n",
        "      for j in range(y//tile_size):\n",
        "        img_tile = img[i*tile_size:(i+1)*tile_size,j*tile_size:(j+1)*tile_size]\n",
        "        Image.fromarray(img_tile).save(f'{output_path}/{fn}_{i}_{j}.png')\n",
        "\n",
        "\n",
        "def generate_mask(raster_path, shape_path, output_path = None, file_name = None):\n",
        "    \"\"\"Function that generates a binary mask from a vector file (shp or geojson)\n",
        "    raster_path = path to the .tif;\n",
        "    shape_path = path to the shapefile or GeoJson.\n",
        "    output_path = Path to save the binary mask.\n",
        "    file_name = Name of the file.\n",
        "    \"\"\"\n",
        "    \n",
        "    # load raster\n",
        "    with rasterio.open(raster_path, \"r\") as src:\n",
        "        raster_img = src.read()\n",
        "        raster_meta = src.meta\n",
        "    \n",
        "    #load shapefile\n",
        "    train_df = gpd.read_file(shape_path)\n",
        "    \n",
        "    #Verify crs\n",
        "    if train_df.crs != src.crs:\n",
        "      print(f\"Raster CRS: {src.crs}, Vector CRS: {train_df.crs}.\\n Convert vector and raster to the same CRS.\")\n",
        "        \n",
        "    # Generate the mask\n",
        "    def poly_from_utm(polygon, transform):\n",
        "        poly_pts = []\n",
        "        poly = cascaded_union(polygon)\n",
        "        for i in np.array(poly.exterior.coords):\n",
        "            poly_pts.append( ~ transform * tuple(i))\n",
        "        new_poly = Polygon(poly_pts)\n",
        "        return new_poly\n",
        "    \n",
        "    poly_shp = []\n",
        "    im_size = (src.meta['height'], src.meta['width'])\n",
        "    for num, row in train_df.iterrows():\n",
        "        if row['geometry'].geom_type == 'Polygon':\n",
        "            poly = poly_from_utm(row['geometry'], src.meta['transform'])\n",
        "            poly_shp.append(poly)\n",
        "        else:\n",
        "            for p in row['geometry']:\n",
        "                poly = poly_from_utm(p, src.meta['transform'])\n",
        "                poly_shp.append(poly)\n",
        "    \n",
        "    if len(poly_shp) > 0:\n",
        "        mask = rasterize(shapes=poly_shp, out_shape=im_size)\n",
        "    else:\n",
        "        mask = np.zeros(im_size)\n",
        "    \n",
        "    # Save or show mask\n",
        "    mask = mask.astype(\"uint8\")    \n",
        "    bin_mask_meta = src.meta.copy()\n",
        "    bin_mask_meta.update({'count': 1})\n",
        "    if (output_path != None and file_name != None):\n",
        "        os.chdir(output_path)\n",
        "        with rasterio.open(file_name, 'w', **bin_mask_meta) as dst:\n",
        "            dst.write(mask * 255, 1) # Change 255 to 1 if classes need to be 0 and 1\n",
        "    else:\n",
        "        return mask\n",
        "\n",
        "\n",
        "def save_masks(images, mask, maskdir):\n",
        "    if not os.path.exists(maskdir):\n",
        "        os.makedirs(maskdir)\n",
        "    for image in tqdm(images):\n",
        "        if image.name.endswith((\".TIF\", \".tif\")):\n",
        "            shapes = image.name\n",
        "            generate_mask(image, mask, maskdir, shapes)\n",
        "\n",
        " \n",
        "def informal_pixels_from_directory(directory):\n",
        "    output_dict = {}\n",
        "    for file in os.listdir(tiled_masks_path):\n",
        "        try:\n",
        "            mask = rasterio.open(os.path.join(tiled_masks_path, file))\n",
        "            mask = (mask).read()\n",
        "            settlement_pixels = np.count_nonzero(mask == 1)\n",
        "            total_pixels = mask.size\n",
        "            settlement_share = settlement_pixels / total_pixels\n",
        "            output_dict[file] = settlement_share\n",
        "        except:\n",
        "            continue\n",
        "    return output_dict\n",
        "\n",
        "\n",
        "def informal_pixels_from_file(file):\n",
        "    output_dict = {}\n",
        "    mask = rasterio.open(file)\n",
        "    mask = mask.read()\n",
        "    settlement_pixels = np.count_nonzero(mask == 1)\n",
        "    total_pixels = mask.size\n",
        "    settlement_share = settlement_pixels / total_pixels\n",
        "    return settlement_share"
      ],
      "metadata": {
        "id": "sAD1NBOpXnd9"
      },
      "id": "sAD1NBOpXnd9",
      "execution_count": null,
      "outputs": []
    },
    {
      "cell_type": "code",
      "source": [
        "# Set type of imagery and mask to tile\n",
        "imagery_type = \"aerial\" # \"satellite\"\n",
        "mask_type = \"buildings\" # \"settlements\"\n",
        "\n",
        "# Set directory containing images and size of tiles to produce\n",
        "path = Path(f\"/content/drive/MyDrive/Segmentation Data/{imagery_type}\")\n",
        "images_list = get_image_files(path/\"images\")\n",
        "\n",
        "# Set mask path\n",
        "if mask_type == \"settlements\":\n",
        "  shp_path = f\"{path}/untiled masks/shapefiles/BuildingFootprints_4326.shp\"\n",
        "elif mask_type == \"buildings\":\n",
        "  shp_path = f\"{path}/untiled masks/shapefiles/manually labelled/2019_10cm_RGB_BE_67.shp\""
      ],
      "metadata": {
        "id": "A3iYVfu9uXjY"
      },
      "id": "A3iYVfu9uXjY",
      "execution_count": null,
      "outputs": []
    },
    {
      "cell_type": "markdown",
      "source": [
        "Visualise Shapefile"
      ],
      "metadata": {
        "id": "mqLpCYlQlYyX"
      },
      "id": "mqLpCYlQlYyX"
    },
    {
      "cell_type": "code",
      "execution_count": null,
      "id": "f1c53d29-2d6d-4183-a716-f24aeb4073b0",
      "metadata": {
        "id": "f1c53d29-2d6d-4183-a716-f24aeb4073b0",
        "outputId": "8425d674-4551-4033-dafc-584ae51a631c",
        "colab": {
          "base_uri": "https://localhost:8080/",
          "height": 276
        }
      },
      "outputs": [
        {
          "output_type": "display_data",
          "data": {
            "image/png": "[encoded data removed]",
            "text/plain": [
              "<Figure size 432x288 with 1 Axes>"
            ]
          },
          "metadata": {
            "needs_background": "light"
          }
        }
      ],
      "source": [
        "mask_plot = gpd.read_file(shp_path)\n",
        "mask_plot[\"geometry\"].plot();"
      ]
    },
    {
      "cell_type": "code",
      "source": [
        "tile(images_folder, tile_size)"
      ],
      "metadata": {
        "colab": {
          "base_uri": "https://localhost:8080/"
        },
        "id": "ncng-AIZcMfK",
        "outputId": "ee1c3f03-eab5-4278-e6bf-b1c3d5f9ca66"
      },
      "id": "ncng-AIZcMfK",
      "execution_count": null,
      "outputs": [
        {
          "output_type": "execute_result",
          "data": {
            "text/plain": [
              "Path('/content/drive/MyDrive/Segmentation Data/aerial/images/2019_10cm_RGB_BE_67.tif')"
            ]
          },
          "metadata": {},
          "execution_count": 54
        }
      ]
    },
    {
      "cell_type": "code",
      "execution_count": null,
      "id": "3a9915bf-d5f8-45de-9cd0-b88c76da1b6a",
      "metadata": {
        "id": "3a9915bf-d5f8-45de-9cd0-b88c76da1b6a",
        "outputId": "dd5a9397-9427-4ff0-c398-6b5d1bb1fad1",
        "colab": {
          "base_uri": "https://localhost:8080/"
        }
      },
      "outputs": [
        {
          "output_type": "stream",
          "name": "stdout",
          "text": [
            "Number of images: 12\n",
            "/content/drive/MyDrive/Segmentation Data/aerial/images/2019_10cm_RGB_BE_68.tif\n"
          ]
        }
      ],
      "source": [
        "print(f'Number of images: {len(images_list)}')\n",
        "print(images_list[-1])"
      ]
    },
    {
      "cell_type": "markdown",
      "source": [
        "Create Masks Corresponding to Selected Satellite Images"
      ],
      "metadata": {
        "id": "EXtXthZsv-66"
      },
      "id": "EXtXthZsv-66"
    },
    {
      "cell_type": "code",
      "source": [
        "# Create masks corresponding to satellite images\n",
        "save_masks(images_list, shp_path, path/f'untiled masks/{mask_type} test')"
      ],
      "metadata": {
        "id": "IiSatIGZmzJu"
      },
      "id": "IiSatIGZmzJu",
      "execution_count": null,
      "outputs": []
    },
    {
      "cell_type": "markdown",
      "source": [
        "Tile Selected Images and Corresponding Masks"
      ],
      "metadata": {
        "id": "h1xQElp2wGGg"
      },
      "id": "h1xQElp2wGGg"
    },
    {
      "cell_type": "code",
      "execution_count": null,
      "id": "8910ae69-ed9a-4a44-a691-f8a75067255d",
      "metadata": {
        "id": "8910ae69-ed9a-4a44-a691-f8a75067255d"
      },
      "outputs": [],
      "source": [
        "# Tile images and masks with a stride of 0 pixels\n",
        "tile_size = 512\n",
        "tile_img_msk(images_list, tile_size)"
      ]
    },
    {
      "cell_type": "markdown",
      "source": [
        "Tile Only Selected Image(s)"
      ],
      "metadata": {
        "id": "ML0eZ4vH29UJ"
      },
      "id": "ML0eZ4vH29UJ"
    },
    {
      "cell_type": "code",
      "source": [
        "# Tile images and masks with a stride of 0 pixels\n",
        "tile_size = 500\n",
        "output_path = path/\"inference/input\"\n",
        "if not os.path.exists(str(output_path)):\n",
        "  os.makedirs(str(output_path))\n",
        "\n",
        "tile_img(str(images_list[-1]), output_path, tile_size, single = True)"
      ],
      "metadata": {
        "colab": {
          "base_uri": "https://localhost:8080/"
        },
        "id": "ntKaR3kh0tXv",
        "outputId": "8032644e-9963-4b3e-de07-7bc087318a79"
      },
      "id": "ntKaR3kh0tXv",
      "execution_count": null,
      "outputs": [
        {
          "output_type": "stream",
          "name": "stderr",
          "text": [
            "/usr/local/lib/python3.7/dist-packages/PIL/Image.py:2800: DecompressionBombWarning: Image size (100000000 pixels) exceeds limit of 89478485 pixels, could be decompression bomb DOS attack.\n",
            "  DecompressionBombWarning,\n"
          ]
        }
      ]
    },
    {
      "cell_type": "code",
      "source": [
        "# Check to see if same number of image tiles and mask tiles were created\n",
        "path = Path(\"/content/drive/MyDrive/Segmentation Data/aerial/\")\n",
        "\n",
        "print(len(get_image_files(mask_output_path)))\n",
        "print(len(get_image_files(img_output_path)))"
      ],
      "metadata": {
        "colab": {
          "base_uri": "https://localhost:8080/"
        },
        "id": "9wGiX84iRYKV",
        "outputId": "69fde035-dd2a-47a2-b30d-a2c17fdcea51"
      },
      "id": "9wGiX84iRYKV",
      "execution_count": null,
      "outputs": [
        {
          "output_type": "stream",
          "name": "stdout",
          "text": [
            "400\n",
            "400\n"
          ]
        }
      ]
    },
    {
      "cell_type": "code",
      "execution_count": null,
      "id": "654b445f-4d9f-4c3c-9005-105860eee27a",
      "metadata": {
        "id": "654b445f-4d9f-4c3c-9005-105860eee27a"
      },
      "outputs": [],
      "source": [
        "# Share of pixels in overall mask that contain informal settlements\n",
        "mask_share_informal = informal_pixels_from_file(mask_output_path)\n",
        "round(mask_share_informal, 4) # 6.5 percent of the mask contain informal settlements"
      ]
    },
    {
      "cell_type": "code",
      "execution_count": null,
      "id": "a4fb2d7f-4957-4b0b-b0db-e93e70d46616",
      "metadata": {
        "id": "a4fb2d7f-4957-4b0b-b0db-e93e70d46616",
        "outputId": "b7bf6b9b-9ca9-4950-c8e3-2b4643fb25a2"
      },
      "outputs": [
        {
          "data": {
            "text/plain": [
              "0.131"
            ]
          },
          "execution_count": 250,
          "metadata": {},
          "output_type": "execute_result"
        }
      ],
      "source": [
        "# Share of tiles containing informal settlement pixels\n",
        "tiles_share_informal = informal_pixels_from_directory(tiled_masks_path)\n",
        "round(1-(sum(value == 0 for value in tiles_share_informal.values()))/len(tiles_share_informal), 3)\n",
        "# 13.1 percent of the mask for tile R03C03 contain informal settlements"
      ]
    }
  ],
  "metadata": {
    "kernelspec": {
      "display_name": "Python 3 (ipykernel)",
      "language": "python",
      "name": "python3"
    },
    "language_info": {
      "codemirror_mode": {
        "name": "ipython",
        "version": 3
      },
      "file_extension": ".py",
      "mimetype": "text/x-python",
      "name": "python",
      "nbconvert_exporter": "python",
      "pygments_lexer": "ipython3",
      "version": "3.9.7"
    },
    "colab": {
      "name": "Tiling Buildings.ipynb",
      "provenance": [],
      "machine_shape": "hm",
      "collapsed_sections": [],
      "background_execution": "on"
    },
    "accelerator": "GPU"
  },
  "nbformat": 4,
  "nbformat_minor": 5
}